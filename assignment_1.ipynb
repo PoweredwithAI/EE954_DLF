{
 "cells": [
  {
   "cell_type": "code",
   "execution_count": null,
   "metadata": {},
   "outputs": [
    {
     "data": {
      "text/plain": [
       "' EE954 : Deep Learning Fundamentals\\n    Group Number: 12\\n    Team Members: \\n    - Lokesh  (Roll no: )\\n    - Akshay (Roll No:)'"
      ]
     },
     "execution_count": 1,
     "metadata": {},
     "output_type": "execute_result"
    }
   ],
   "source": [
    "''' EE954 : Deep Learning Fundamentals\n",
    "    Group Number: 12\n",
    "    Team Members: \n",
    "    - Lokesh  (Roll no: 241562482)\n",
    "    - Akshay (Roll No:)'''\n",
    "\n",
    "### Assignment 1"
   ]
  }
 ],
 "metadata": {
  "kernelspec": {
   "display_name": "base",
   "language": "python",
   "name": "python3"
  },
  "language_info": {
   "codemirror_mode": {
    "name": "ipython",
    "version": 3
   },
   "file_extension": ".py",
   "mimetype": "text/x-python",
   "name": "python",
   "nbconvert_exporter": "python",
   "pygments_lexer": "ipython3",
   "version": "3.12.4"
  }
 },
 "nbformat": 4,
 "nbformat_minor": 2
}
