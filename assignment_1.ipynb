{
 "cells": [
  {
   "cell_type": "markdown",
   "metadata": {},
   "source": [
    "# EE954 : Deep Learning Fundamentals\n",
    "### Assignment 1\n",
    "\n",
    "**Group Number:** 12  \n",
    "**Team Members:**  \n",
    "- Lokesh  (Roll No: 241562482)  \n",
    "- Akshay (Roll No: _____)\n",
    "\n",
    "---\n",
    "\n"
   ]
  },
  {
   "cell_type": "markdown",
   "metadata": {},
   "source": [
    "#### Importing Libraries &#8595;"
   ]
  },
  {
   "cell_type": "code",
   "execution_count": 3,
   "metadata": {},
   "outputs": [
    {
     "name": "stdout",
     "output_type": "stream",
     "text": [
      "Requirement already satisfied: kagglehub in c:\\users\\aksha\\anaconda3\\lib\\site-packages (0.3.12)\n",
      "Requirement already satisfied: packaging in c:\\users\\aksha\\anaconda3\\lib\\site-packages (from kagglehub) (23.2)\n",
      "Requirement already satisfied: pyyaml in c:\\users\\aksha\\anaconda3\\lib\\site-packages (from kagglehub) (6.0.1)\n",
      "Requirement already satisfied: requests in c:\\users\\aksha\\anaconda3\\lib\\site-packages (from kagglehub) (2.32.2)\n",
      "Requirement already satisfied: tqdm in c:\\users\\aksha\\anaconda3\\lib\\site-packages (from kagglehub) (4.66.4)\n",
      "Requirement already satisfied: charset-normalizer<4,>=2 in c:\\users\\aksha\\anaconda3\\lib\\site-packages (from requests->kagglehub) (2.0.4)\n",
      "Requirement already satisfied: idna<4,>=2.5 in c:\\users\\aksha\\anaconda3\\lib\\site-packages (from requests->kagglehub) (3.7)\n",
      "Requirement already satisfied: urllib3<3,>=1.21.1 in c:\\users\\aksha\\anaconda3\\lib\\site-packages (from requests->kagglehub) (2.2.2)\n",
      "Requirement already satisfied: certifi>=2017.4.17 in c:\\users\\aksha\\anaconda3\\lib\\site-packages (from requests->kagglehub) (2025.1.31)\n",
      "Requirement already satisfied: colorama in c:\\users\\aksha\\anaconda3\\lib\\site-packages (from tqdm->kagglehub) (0.4.6)\n"
     ]
    }
   ],
   "source": [
    "!pip install kagglehub\n",
    "import numpy as np\n",
    "from torchvision import datasets\n",
    "import kagglehub\n",
    "import shutil\n",
    "import os\n",
    "import pandas as pd\n",
    "from sklearn.model_selection import train_test_split"
   ]
  },
  {
   "cell_type": "markdown",
   "metadata": {},
   "source": [
    "#### 1.1 Download and Split &#8595;\n",
    "\n",
    "General Instructions \n",
    "• Late submissions will not be accepted. \n",
    "• Any form of plagiarism will result inpenalties. If you refer to any online material or books,cite them properly. \n",
    "• You may use Google Colab or Kaggle to train your models. \n",
    "• The use of the Numpy library is permitted. \n",
    "• The use of Tensor Flow library is strictly prohibited. \n",
    "• The use of PyTorch library is allowed with restrictions.\n",
    "\n",
    "DatasetPreparation (5Marks)\n",
    "\n",
    "1.1 Download and Split (2Marks)\n",
    "\n",
    "•Download the Fashion-MNIST dataset. You can either download it from here,or import it directly into your code using PyTorch’s torchvision.datasets module. \n",
    "\n",
    "• Both sources provide separate training and test splits; however, you will need to create a separate validation set from the training data.\n",
    "\n",
    "From Perplexity.AI - '\n",
    "\n",
    "Fashion-MNIST is a widely used machine learning dataset consisting of 70,000 grayscale images (28x28 pixels) of fashion items from 10 categories, such as T-shirts, trousers, dresses, and shoes. There are 60,000 images for training and 10,000 for testing. Each image is labeled with one of the 10 clothing classes. Fashion-MNIST was designed as a more challenging, modern replacement for the original MNIST handwritten digits dataset, while maintaining the same format and structure for easy benchmarking and comparison of machine learning algorithms.\n",
    "\n",
    "Each example is a 28x28 grayscale image of a fashion item, labeled with one of 10 classes: 0: T-shirt/top 1: Trouser 2: Pullover 3: Dress 4: Coat 5: Sandal 6: Shirt 7: Sneaker 8: Bag 9: Ankle boot\n",
    "\n",
    "'\n",
    "\n",
    "Documentation on dataset - https://github.com/zalandoresearch/fashion-mnist"
   ]
  },
  {
   "cell_type": "code",
   "execution_count": 4,
   "metadata": {},
   "outputs": [
    {
     "name": "stdout",
     "output_type": "stream",
     "text": [
      "Downloading from https://www.kaggle.com/api/v1/datasets/download/zalando-research/fashionmnist?dataset_version_number=4...\n"
     ]
    },
    {
     "name": "stderr",
     "output_type": "stream",
     "text": [
      "100%|██████████| 68.8M/68.8M [00:17<00:00, 4.18MB/s]"
     ]
    },
    {
     "name": "stdout",
     "output_type": "stream",
     "text": [
      "Extracting files...\n"
     ]
    },
    {
     "name": "stderr",
     "output_type": "stream",
     "text": [
      "\n"
     ]
    },
    {
     "name": "stdout",
     "output_type": "stream",
     "text": [
      "Dataset copied successfully to: c:\\Users\\aksha\\OneDrive\\Desktop\\Education Courses\\IITK AI ML\\GitHub\\EE954_DLF\\..\\datasets\n",
      "Contents:\n",
      " - fashion-mnist_test.csv\n",
      " - fashion-mnist_train.csv\n",
      " - t10k-images-idx3-ubyte\n",
      " - t10k-labels-idx1-ubyte\n",
      " - train-images-idx3-ubyte\n",
      " - train-labels-idx1-ubyte\n"
     ]
    }
   ],
   "source": [
    "# where the MNIST data will be saved permanently\n",
    "BASE_DIR = os.getcwd()\n",
    "DATA_DIR = os.path.join(BASE_DIR, \"..\", \"datasets\")\n",
    "\n",
    "# Download dataset to the default directory\n",
    "path = kagglehub.dataset_download(\"zalando-research/fashionmnist\")\n",
    "\n",
    "# Copy the downloaded the dataset to the desired path\n",
    "shutil.copytree(path, DATA_DIR, dirs_exist_ok=True)\n",
    "\n",
    "if os.path.exists(DATA_DIR) and os.listdir(DATA_DIR):\n",
    "    print(f\"Dataset copied successfully to: {DATA_DIR}\")\n",
    "    print(\"Contents:\")\n",
    "    for f in os.listdir(DATA_DIR):\n",
    "        print(\" -\", f)\n",
    "else:\n",
    "    print(\"Dataset folder is missing or empty!\")\n",
    "\n",
    "train_file = os.path.join(DATA_DIR, \"fashion-mnist_train.csv\")\n",
    "test_file = os.path.join(DATA_DIR, \"fashion-mnist_test.csv\")\n",
    "\n",
    "df = pd.read_csv(train_file)\n",
    "\n",
    "X = df.drop('label', axis=1)\n",
    "y = df['label']\n",
    "\n",
    "X = X.to_numpy()\n",
    "y = y.to_numpy()\n",
    "\n",
    "X_train, X_val, y_train, y_val = train_test_split(X, y, test_size = 0.2, random_state=42)"
   ]
  },
  {
   "cell_type": "code",
   "execution_count": 6,
   "metadata": {},
   "outputs": [
    {
     "data": {
      "text/plain": [
       "(48000, 784)"
      ]
     },
     "execution_count": 6,
     "metadata": {},
     "output_type": "execute_result"
    }
   ],
   "source": [
    "X_train.shape"
   ]
  },
  {
   "cell_type": "markdown",
   "metadata": {},
   "source": [
    "### The dataset downloaded from Kaggle is already flattened. \n",
    "Notes from Kaggle:  \n",
    "\n",
    "'Content\n",
    "Each image is 28 pixels in height and 28 pixels in width, for a total of 784 pixels in total. Each pixel has a single pixel-value associated with it, indicating the lightness or darkness of that pixel, with higher numbers meaning darker. This pixel-value is an integer between 0 and 255. The training and test data sets have 785 columns. The first column consists of the class labels (see above), and represents the article of clothing. The rest of the columns contain the pixel-values of the associated image.\n",
    "\n",
    "To locate a pixel on the image, suppose that we have decomposed x as x = i * 28 + j, where i and j are integers between 0 and 27. The pixel is located on row i and column j of a 28 x 28 matrix.\n",
    "For example, pixel31 indicates the pixel that is in the fourth column from the left, and the second row from the top, as in the ascii-diagram below.'"
   ]
  },
  {
   "cell_type": "markdown",
   "metadata": {},
   "source": [
    "#### 1.2 Data Preprocessing (3 Marks)\n",
    "• Define a preprocess function to preprocess the images. (The function should have\n",
    "the same name).\n",
    "\n",
    "• The function should flatten the images.\n",
    "\n",
    "• The function should also normalize the pixel values to the range [0, 1]. Depending\n",
    "on how you have implemented the code so far, the pixel values might already be\n",
    "normalized to this range. However, for clarity and completeness, include an explicit\n",
    "normalization step regardless. &#8595;"
   ]
  },
  {
   "cell_type": "code",
   "execution_count": 10,
   "metadata": {},
   "outputs": [
    {
     "name": "stdout",
     "output_type": "stream",
     "text": [
      "X Shape: 2\n",
      "y Shape: 1\n",
      "Max pixel value is 255\n",
      "Min pixel value is 0\n"
     ]
    }
   ],
   "source": [
    "print(f\"X Shape: {X.ndim}\")\n",
    "print(f\"y Shape: {y.ndim}\") \n",
    "print(f\"Max pixel value is {X.max()}\")\n",
    "print(f\"Min pixel value is {X.min()}\")  "
   ]
  },
  {
   "cell_type": "code",
   "execution_count": 14,
   "metadata": {},
   "outputs": [
    {
     "ename": "NameError",
     "evalue": "name 'Dataset' is not defined",
     "output_type": "error",
     "traceback": [
      "\u001b[1;31m---------------------------------------------------------------------------\u001b[0m",
      "\u001b[1;31mNameError\u001b[0m                                 Traceback (most recent call last)",
      "Cell \u001b[1;32mIn[14], line 9\u001b[0m\n\u001b[0;32m      5\u001b[0m         X \u001b[38;5;241m=\u001b[39m X \u001b[38;5;241m/\u001b[39m \u001b[38;5;241m255.0\u001b[39m                  \u001b[38;5;66;03m# We also saw from above that the dataset while being flattened is not normalized - so we normalize it here\u001b[39;00m\n\u001b[0;32m      6\u001b[0m     \u001b[38;5;28;01mreturn\u001b[39;00m X\n\u001b[1;32m----> 9\u001b[0m \u001b[38;5;28;01mclass\u001b[39;00m \u001b[38;5;21;01mPreprocessedDataset\u001b[39;00m(Dataset):\n\u001b[0;32m     10\u001b[0m     \u001b[38;5;28;01mdef\u001b[39;00m \u001b[38;5;21m__init__\u001b[39m(\u001b[38;5;28mself\u001b[39m, dataset):\n\u001b[0;32m     11\u001b[0m         \u001b[38;5;28mself\u001b[39m\u001b[38;5;241m.\u001b[39mdataset \u001b[38;5;241m=\u001b[39m dataset\n",
      "\u001b[1;31mNameError\u001b[0m: name 'Dataset' is not defined"
     ]
    }
   ],
   "source": [
    "def preprocess_(X):\n",
    "    if X.ndim == 3:                     # We know that the image is already flattened when used from the KaggleHub dataset, however we are checking for safety\n",
    "        X = X.reshape(X.shape[0], -1)   # Flatten each image\n",
    "    if X.max() > 1:\n",
    "        X = X / 255.0                  # We also saw from above that the dataset while being flattened is not normalized - so we normalize it here\n",
    "    return X\n",
    "\n",
    "\n",
    "class PreprocessedDataset(Dataset):\n",
    "    def __init__(self, dataset):\n",
    "        self.dataset = dataset\n",
    "  \n",
    "    def preprocess(self):\n",
    "        return preprocess_(self.dataset)  # Apply preprocessing\n",
    "\n",
    "\n",
    "# Wrap your existing datasets\n",
    "X_train = PreprocessedDataset(X_train)\n",
    "X_val = PreprocessedDataset(X_val)"
   ]
  },
  {
   "cell_type": "markdown",
   "metadata": {},
   "source": [
    "@Lokesh - please see the suggested code below to changes in class\n",
    "\n",
    "class PreprocessedDataset:\n",
    "    def __init__(self, X):\n",
    "        self.raw_data = X  # Store original 2D array (n_samples, 784)\n",
    "        self.processed_data = None\n",
    "    \n",
    "    def preprocess(self):\n",
    "        \"\"\"Applies preprocessing and stores result\"\"\"\n",
    "        self.processed_data = preprocess_(self.raw_data)\n",
    "        return self.processed_data  # Returns processed array\n",
    "    \n",
    "    # Optional: Add array-like access if needed\n",
    "    def __getitem__(self, idx):\n",
    "        if self.processed_data is None:\n",
    "            raise ValueError(\"Call preprocess() first\")\n",
    "        return self.processed_data[idx]\n",
    "    \n",
    "    def __len__(self):\n",
    "        return len(self.raw_data)\n",
    "\n",
    "\n",
    "# Assuming X_train is your 2D NumPy array (n_samples, 784)\n",
    "train_dataset = PreprocessedDataset(X_train)\n",
    "\n",
    "# Apply preprocessing (stores result internally)\n",
    "processed_array = train_dataset.preprocess() \n",
    "\n",
    "# Access individual samples (optional)\n",
    "sample = train_dataset[0]  # Only works after calling preprocess()\n",
    "\n",
    "\n"
   ]
  },
  {
   "cell_type": "code",
   "execution_count": 11,
   "metadata": {},
   "outputs": [
    {
     "name": "stdout",
     "output_type": "stream",
     "text": [
      "X Shape of Training Dataset: 2\n",
      "X Shape of Validation Dataset: 2\n",
      "Max pixel value in Training Dataset is 255\n",
      "Min pixel value in Training Dataset is 0\n",
      "Max pixel value in Validation Dataset is 255\n",
      "Min pixel value in Validation Dataset is 0\n"
     ]
    }
   ],
   "source": [
    "###   Checks again\n",
    "\n",
    "print(f\"X Shape of Training Dataset: {X_train.ndim}\")\n",
    "print(f\"X Shape of Validation Dataset: {X_val.ndim}\") \n",
    "print(f\"Max pixel value in Training Dataset is {X_train.max()}\")\n",
    "print(f\"Min pixel value in Training Dataset is {X_train.min()}\")  \n",
    "print(f\"Max pixel value in Validation Dataset is {X_val.max()}\")\n",
    "print(f\"Min pixel value in Validation Dataset is {X_val.min()}\")  "
   ]
  },
  {
   "cell_type": "markdown",
   "metadata": {},
   "source": [
    " #### Activation Function &#8595;"
   ]
  },
  {
   "cell_type": "code",
   "execution_count": 6,
   "metadata": {},
   "outputs": [],
   "source": [
    "def activation(activation_type, z):\n",
    "    if activation_type == 'relu':\n",
    "        return np.maximum(0, z)\n",
    "    if activation_type == 'sigmoid':\n",
    "        return 1/(1+np.exp(-z))\n",
    "    if activation_type == 'tanh':\n",
    "        return (np.tanh(z))\n",
    "    else:\n",
    "        raise ValueError(\"Unsupported activation type. Use 'relu', 'sigmoid', or 'tanh'.\")\n",
    "    "
   ]
  },
  {
   "cell_type": "markdown",
   "metadata": {},
   "source": [
    "#### Forward Propagation  &#8595;"
   ]
  },
  {
   "cell_type": "code",
   "execution_count": 5,
   "metadata": {},
   "outputs": [
    {
     "name": "stdout",
     "output_type": "stream",
     "text": [
      "10\n",
      "X dataframe shape(60000, 784)\n",
      "y dataframe shape(60000,)\n"
     ]
    }
   ],
   "source": [
    "X = df.drop('label', axis=1)\n",
    "y = df['label']\n",
    "\n",
    "#Total number of classes to be predicted\n",
    "n_classes = len(np.unique(y))\n",
    "print(n_classes)\n",
    "\n",
    "print(f\"X dataframe shape{X.shape}\")\n",
    "print(f\"y dataframe shape{y.shape}\")"
   ]
  },
  {
   "cell_type": "markdown",
   "metadata": {},
   "source": [
    "#### Backward Propagation  &#8595;"
   ]
  },
  {
   "cell_type": "code",
   "execution_count": null,
   "metadata": {},
   "outputs": [],
   "source": [
    "class MLP(self, PreprocessedDataset):\n",
    "    def init __super():\n",
    "        self.PreprocessedDataset\n",
    "    init __self__():\n",
    "   \n",
    "    X_train = preprocess(X_train)\n",
    "    X_val = preprocess(X_val)\n",
    "\n",
    "nn = MLP()\n",
    "for _ in range(epochs):\n",
    "    \n",
    "    nn.forwardpropagation()\n",
    "    nn.backpropagation()\n",
    "    "
   ]
  }
 ],
 "metadata": {
  "kernelspec": {
   "display_name": "base",
   "language": "python",
   "name": "python3"
  },
  "language_info": {
   "codemirror_mode": {
    "name": "ipython",
    "version": 3
   },
   "file_extension": ".py",
   "mimetype": "text/x-python",
   "name": "python",
   "nbconvert_exporter": "python",
   "pygments_lexer": "ipython3",
   "version": "3.12.4"
  }
 },
 "nbformat": 4,
 "nbformat_minor": 4
}
