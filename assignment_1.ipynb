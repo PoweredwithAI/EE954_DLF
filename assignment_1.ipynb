{
 "cells": [
  {
   "cell_type": "markdown",
   "metadata": {},
   "source": [
    "# EE954 : Deep Learning Fundamentals\n",
    "### Assignment 1\n",
    "\n",
    "**Group Number:** 12  \n",
    "**Team Members:**  \n",
    "- Lokesh  (Roll No: 241562482)  \n",
    "- Akshay (Roll No: _____)\n",
    "\n",
    "---\n",
    "\n"
   ]
  },
  {
   "cell_type": "markdown",
   "metadata": {},
   "source": [
    "#### Importing Libraries &#8595;"
   ]
  },
  {
   "cell_type": "code",
   "execution_count": 1,
   "metadata": {},
   "outputs": [],
   "source": [
    "import numpy as np\n",
    "from torchvision import datasets\n",
    "import kagglehub\n",
    "import shutil\n",
    "import os\n",
    "import pandas as pd\n",
    "from sklearn.model_selection import train_test_split"
   ]
  },
  {
   "cell_type": "markdown",
   "metadata": {},
   "source": [
    "#### 1.1 Download and Split &#8595;\n",
    "\n",
    "General Instructions \n",
    "• Late submissions will not be accepted. \n",
    "• Any form of plagiarism will result inpenalties. If you refer to any online material or books,cite them properly. \n",
    "• You may use Google Colab or Kaggle to train your models. \n",
    "• The use of the Numpy library is permitted. \n",
    "• The use of Tensor Flow library is strictly prohibited. \n",
    "• The use of PyTorch library is allowed with restrictions.\n",
    "\n",
    "DatasetPreparation (5Marks)\n",
    "\n",
    "1.1 Download and Split (2Marks)\n",
    "\n",
    "•Download the Fashion-MNIST dataset. You can either download it from here,or import it directly into your code using PyTorch’s torchvision.datasets module. \n",
    "\n",
    "• Both sources provide separate training and test splits; however, you will need to create a separate validation set from the training data.\n",
    "\n",
    "From Perplexity.AI - '\n",
    "\n",
    "Fashion-MNIST is a widely used machine learning dataset consisting of 70,000 grayscale images (28x28 pixels) of fashion items from 10 categories, such as T-shirts, trousers, dresses, and shoes. There are 60,000 images for training and 10,000 for testing. Each image is labeled with one of the 10 clothing classes. Fashion-MNIST was designed as a more challenging, modern replacement for the original MNIST handwritten digits dataset, while maintaining the same format and structure for easy benchmarking and comparison of machine learning algorithms.\n",
    "\n",
    "Each example is a 28x28 grayscale image of a fashion item, labeled with one of 10 classes: 0: T-shirt/top 1: Trouser 2: Pullover 3: Dress 4: Coat 5: Sandal 6: Shirt 7: Sneaker 8: Bag 9: Ankle boot\n",
    "\n",
    "'\n",
    "\n",
    "Documentation on dataset - https://github.com/zalandoresearch/fashion-mnist"
   ]
  },
  {
   "cell_type": "code",
   "execution_count": 14,
   "metadata": {},
   "outputs": [
    {
     "name": "stdout",
     "output_type": "stream",
     "text": [
      "Dataset copied successfully to: c:\\Users\\aksha\\OneDrive\\Desktop\\Education Courses\\IITK AI ML\\GitHub\\EE954_DLF\\..\\datasets\n",
      "Contents:\n",
      " - fashion-mnist_test.csv\n",
      " - fashion-mnist_train.csv\n",
      " - t10k-images-idx3-ubyte\n",
      " - t10k-labels-idx1-ubyte\n",
      " - train-images-idx3-ubyte\n",
      " - train-labels-idx1-ubyte\n"
     ]
    }
   ],
   "source": [
    "# where the MNIST data will be saved permanently\n",
    "BASE_DIR = os.getcwd()\n",
    "DATA_DIR = os.path.join(BASE_DIR, \"..\", \"datasets\")\n",
    "\n",
    "# Download dataset to the default directory\n",
    "path = kagglehub.dataset_download(\"zalando-research/fashionmnist\")\n",
    "\n",
    "# Copy the downloaded the dataset to the desired path\n",
    "shutil.copytree(path, DATA_DIR, dirs_exist_ok=True)\n",
    "\n",
    "if os.path.exists(DATA_DIR) and os.listdir(DATA_DIR):\n",
    "    print(f\"Dataset copied successfully to: {DATA_DIR}\")\n",
    "    print(\"Contents:\")\n",
    "    for f in os.listdir(DATA_DIR):\n",
    "        print(\" -\", f)\n",
    "else:\n",
    "    print(\"Dataset folder is missing or empty!\")\n",
    "\n",
    "train_file = os.path.join(DATA_DIR, \"fashion-mnist_train.csv\")\n",
    "test_file = os.path.join(DATA_DIR, \"fashion-mnist_test.csv\")\n",
    "\n",
    "df = pd.read_csv(train_file)\n",
    "X = df.drop('label', axis=1)\n",
    "y = df['label']\n",
    "\n",
    "X = X.to_numpy()\n",
    "y = y.to_numpy()\n",
    "\n",
    "X_train, X_val, y_train, y_val = train_test_split(X, y, test_size = 0.2, random_state=42)"
   ]
  },
  {
   "cell_type": "markdown",
   "metadata": {},
   "source": [
    "### Data Augmentation <img src=\"https://r2cdn.perplexity.ai/pplx-full-logo-primary-dark%402x.png\" class=\"logo\" width=\"120\"/>\n",
    "\n",
    "For most computer vision tasks, **on-the-fly (online) augmentation**-applying random flips and rotations during training-is the recommended approach over creating and storing new augmented data entries. Here’s why:\n",
    "\n",
    "- **Efficiency:** On-the-fly augmentation is more efficient in terms of storage and computation. You don’t need to physically expand your dataset, which saves disk space and avoids data duplication[^1][^3][^4][^5].\n",
    "- **Diversity:** Each epoch, the model sees new, randomly augmented variations of the same images, effectively increasing the diversity of your training data and helping prevent overfitting[^2][^3][^4].\n",
    "- **Scalability:** For large datasets, storing all possible augmented versions is impractical. On-the-fly methods scale easily to any dataset size[^4][^5].\n",
    "- **Flexibility:** You can easily experiment with different augmentation strategies and intensities without having to regenerate and store multiple datasets[^1][^2].\n",
    "\n",
    "**Static augmentation** (saving new images) can be helpful for very small datasets or for research scenarios where you need to inspect or share specific augmented samples[^1][^5]. However, for most practical deep learning workflows-especially with modern frameworks like PyTorch and TensorFlow-on-the-fly augmentation is the preferred and standard method.\n",
    "\n",
    "**Recommendation:**\n",
    "Use random flips and rotations on-the-fly during training for efficiency, scalability, and improved model generalization[^2][^3][^4][^5].\n",
    "\n",
    "<div style=\"text-align: center\">⁂</div>\n",
    "\n",
    "[^1]: https://pmc.ncbi.nlm.nih.gov/articles/PMC8455796/\n",
    "\n",
    "[^2]: https://keylabs.ai/blog/data-augmentation-for-improving-image-classification-accuracy/\n",
    "\n",
    "[^3]: https://milvus.io/ai-quick-reference/how-is-random-flipping-used-in-data-augmentation\n",
    "\n",
    "[^4]: https://alecstashevsky.com/post/on-the-fly-augmentation-with-pytorch-geometric-and-lightning-what-tutorials-dont-teach/\n",
    "\n",
    "[^5]: https://www.kdnuggets.com/2018/05/data-augmentation-deep-learning-limited-data.html\n",
    "\n",
    "[^6]: https://www.v7labs.com/blog/data-augmentation-guide\n",
    "\n",
    "[^7]: https://www.lyzr.ai/glossaries/data-augmentation/\n",
    "\n",
    "[^8]: https://www.reddit.com/r/learnmachinelearning/comments/kmp59z/on_the_fly_data_augmentation_vs_saving_out/\n",
    "\n",
    "[^9]: https://www.albumentations.ai/docs/1-introduction/what-are-image-augmentations/\n",
    "\n",
    "[^10]: https://www.f22labs.com/blogs/what-is-data-augmentation/\n",
    "\n",
    "[^11]: https://celerdata.com/glossary/a-comprehensive-guide-to-data-augmentation-strategies\n",
    "\n",
    "[^12]: https://stackoverflow.com/questions/42141540/image-augmentation-makes-performance-worse\n",
    "\n",
    "[^13]: https://www.restack.io/p/data-augmentation-answer-on-the-fly-cat-ai\n",
    "\n",
    "[^14]: https://blog.roboflow.com/data-augmentation/\n",
    "\n",
    "[^15]: https://www.digitalocean.com/community/tutorials/data-augmentation-for-object-detection-rotation-and-shearing\n",
    "\n",
    "[^16]: https://blog.paperspace.com/data-augmentation-for-bounding-boxes/\n",
    "\n",
    "[^17]: https://www.ccslearningacademy.com/what-is-data-augmentation/\n",
    "\n",
    "[^18]: https://www.datacamp.com/tutorial/complete-guide-data-augmentation\n",
    "\n",
    "[^19]: https://www.sciencedirect.com/science/article/pii/S2590005622000911\n",
    "\n",
    "[^20]: https://encord.com/blog/data-augmentation-guide/\n",
    "\n"
   ]
  },
  {
   "cell_type": "markdown",
   "metadata": {},
   "source": [
    "### Code for Data Augmentation:\n",
    "\n",
    "\n",
    "def flip_horizontal(flat_img):\n",
    "\n",
    "    \"\"\"Flips a flattened 28x28 image horizontally\"\"\"\n",
    "\n",
    "    return np.fliplr(flat_img.reshape(28, 28)).flatten()\n",
    "\n",
    "\n",
    "\n",
    "def flip_vertical(flat_img):\n",
    "\n",
    "    \"\"\"Flips a flattened 28x28 image vertically\"\"\"\n",
    "\n",
    "    return np.flipud(flat_img.reshape(28, 28)).flatten()\n",
    "\n",
    "\n",
    "\n",
    "def augment_with_flips(dataset, flip_type='horizontal', flip_ratio=0.50, seed=42):\n",
    "\n",
    "    \"\"\"Augments dataset by flipping specified ratio of images\"\"\"\n",
    "\n",
    "    np.random.seed(seed)\n",
    "\n",
    "    n = len(dataset)\n",
    "\n",
    "    print(f\"Number of images in dataset: {n}\")\n",
    "\n",
    "    print(f\"Flipping {int(n * flip_ratio)} images {flip_type}ly\")\n",
    "\n",
    "    indices = np.random.choice(n, int(n * flip_ratio), replace=False)\n",
    "\n",
    "    print(f\"Indices chosen for flipping: {indices}\")\n",
    "\n",
    "    flipped = dataset.copy()\n",
    "\n",
    "    flip_fn = flip_horizontal if flip_type == 'horizontal' else flip_vertical\n",
    "\n",
    "\n",
    "\n",
    "    for i in indices:\n",
    "\n",
    "        flipped[i] = flip_fn(flipped[i])\n",
    "\n",
    "\n",
    "\n",
    "    return flipped\n",
    "\n",
    "\n",
    "\n",
    "# Usage with your 48,000-image dataset\n",
    "\n",
    "#augmented_horizontal = augment_with_flips(X_train, flip_type='horizontal') \n",
    "\n",
    "#augmented_vertical = augment_with_flips(X_train, flip_type='vertical')\n",
    "\n",
    "\n",
    "\n",
    "# To combine both flips (50% horizontal + 50% vertical):\n",
    "\n",
    "combined_augmented = np.concatenate([X_train, augment_with_flips(X_train, 'horizontal'),augment_with_flips(X_train, \n",
    "'vertical')])\n",
    "\n",
    "\n",
    "\n",
    "import matplotlib.pyplot as plt\n",
    "\n",
    "\n",
    "\n",
    "def plot_sample(original, flipped, title):\n",
    "\n",
    "    fig, (ax1, ax2) = plt.subplots(1, 2)\n",
    "\n",
    "    ax1.imshow(original.reshape(28, 28), cmap='gray')\n",
    "\n",
    "    ax1.set_title('Original')\n",
    "\n",
    "    ax2.imshow(flipped.reshape(28, 28), cmap='gray')\n",
    "\n",
    "    ax2.set_title(title)\n",
    "\n",
    "    plt.show()\n",
    "\n",
    "\n",
    "\n",
    "sample_idx = 3  # Change to see different examples\n",
    "\n",
    "plot_sample(X_train[sample_idx],flip_vertical(flip_horizontal(X_train[sample_idx])),\"Horizontally Flipped\")"
   ]
  },
  {
   "cell_type": "code",
   "execution_count": null,
   "metadata": {},
   "outputs": [
    {
     "name": "stdout",
     "output_type": "stream",
     "text": [
      "Number of images in dataset: 48000\n",
      "Flipping 24000 images horizontally\n",
      "Indices chosen for flipping: [32771 39512 43581 ... 19526  5217 12164]\n",
      "Number of images in dataset: 48000\n",
      "Flipping 24000 images vertically\n",
      "Indices chosen for flipping: [32771 39512 43581 ... 19526  5217 12164]\n"
     ]
    },
    {
     "data": {
      "image/png": "[encoded data removed]",
      "text/plain": [
       "<Figure size 640x480 with 2 Axes>"
      ]
     },
     "metadata": {},
     "output_type": "display_data"
    }
   ],
   "source": [
    "\n"
   ]
  },
  {
   "cell_type": "code",
   "execution_count": 8,
   "metadata": {},
   "outputs": [
    {
     "data": {
      "text/plain": [
       "(48000, 784)"
      ]
     },
     "execution_count": 8,
     "metadata": {},
     "output_type": "execute_result"
    }
   ],
   "source": [
    "X_train.shape"
   ]
  },
  {
   "cell_type": "markdown",
   "metadata": {},
   "source": [
    "### The dataset downloaded from Kaggle is already flattened. \n",
    "Notes from Kaggle:  \n",
    "\n",
    "'Content\n",
    "Each image is 28 pixels in height and 28 pixels in width, for a total of 784 pixels in total. Each pixel has a single pixel-value associated with it, indicating the lightness or darkness of that pixel, with higher numbers meaning darker. This pixel-value is an integer between 0 and 255. The training and test data sets have 785 columns. The first column consists of the class labels (see above), and represents the article of clothing. The rest of the columns contain the pixel-values of the associated image.\n",
    "\n",
    "To locate a pixel on the image, suppose that we have decomposed x as x = i * 28 + j, where i and j are integers between 0 and 27. The pixel is located on row i and column j of a 28 x 28 matrix.\n",
    "For example, pixel31 indicates the pixel that is in the fourth column from the left, and the second row from the top, as in the ascii-diagram below.'"
   ]
  },
  {
   "cell_type": "markdown",
   "metadata": {},
   "source": [
    "#### 1.2 Data Preprocessing (3 Marks)\n",
    "• Define a preprocess function to preprocess the images. (The function should have\n",
    "the same name).\n",
    "\n",
    "• The function should flatten the images.\n",
    "\n",
    "• The function should also normalize the pixel values to the range [0, 1]. Depending\n",
    "on how you have implemented the code so far, the pixel values might already be\n",
    "normalized to this range. However, for clarity and completeness, include an explicit\n",
    "normalization step regardless. &#8595;"
   ]
  },
  {
   "cell_type": "code",
   "execution_count": 20,
   "metadata": {},
   "outputs": [
    {
     "name": "stdout",
     "output_type": "stream",
     "text": [
      "X_train Shape: 2\n",
      "y_train Shape: 1\n",
      "Max pixel value in X_train is 255\n",
      "Min pixel value X_train is 0\n",
      "X_val Shape: 2\n",
      "y_val Shape: 1\n",
      "Max pixel value in X_val is 255\n",
      "Min pixel value X_val is 0\n"
     ]
    }
   ],
   "source": [
    "# Inspecting data before preprocessing:\n",
    "\n",
    "print(f\"X_train Shape: {X_train.ndim}\")\n",
    "print(f\"y_train Shape: {y_train.ndim}\") \n",
    "print(f\"Max pixel value in X_train is {X_train.max()}\")\n",
    "print(f\"Min pixel value X_train is {X_train.min()}\")  \n",
    "\n",
    "print(f\"X_val Shape: {X_val.ndim}\")\n",
    "print(f\"y_val Shape: {y_val.ndim}\") \n",
    "print(f\"Max pixel value in X_val is {X_val.max()}\")\n",
    "print(f\"Min pixel value X_val is {X_val.min()}\") "
   ]
  },
  {
   "cell_type": "code",
   "execution_count": 16,
   "metadata": {},
   "outputs": [],
   "source": [
    "def preprocess_(X):\n",
    "    if X.ndim == 3:                     # We know that the image is already flattened when used from the KaggleHub dataset, however we are checking for safety\n",
    "        X = X.reshape(X.shape[0], -1)   # Flatten each image\n",
    "    if X.max() > 1:\n",
    "        X = X / 255.0                  # We also saw from above that the dataset while being flattened is not normalized - so we normalize it here\n",
    "    return X\n",
    "\n",
    "\n",
    "class Preprocessor:\n",
    "    def __init__(self, X, y=None):\n",
    "        self.X_raw = X\n",
    "        self.y_raw = y\n",
    "        self.X = None\n",
    "        self.y = None\n",
    "\n",
    "    def apply(self):\n",
    "        \"\"\"Apply preprocessing using preprocess_() function.\"\"\"\n",
    "        self.X = preprocess_(self.X_raw)\n",
    "        self.y = self.y_raw\n",
    "        return self.X, self.y\n",
    "\n",
    "    def get_data(self):\n",
    "        \"\"\"Return already-preprocessed data.\"\"\"\n",
    "        if self.X is None:\n",
    "            raise ValueError(\"Call `.apply()` before using get_data()\")\n",
    "        return self.X, self.y\n",
    "\n",
    "\n",
    "# Wrap your existing datasets\n",
    "prep_train = Preprocessor(X_train, y_train)\n",
    "prep_val = Preprocessor(X_val, y_val)\n",
    "\n",
    "X_train_clean, y_train_clean = prep_train.apply()\n",
    "X_val_clean, y_val_clean = prep_val.apply()\n"
   ]
  },
  {
   "cell_type": "code",
   "execution_count": 22,
   "metadata": {},
   "outputs": [
    {
     "name": "stdout",
     "output_type": "stream",
     "text": [
      "X_train_clean Shape: 2\n",
      "y_train_clean Shape: 1\n",
      "Max pixel value in X_train_clean is 1.0\n",
      "Min pixel value X_train_clean is 0.0\n",
      "X_val_clean Shape: 2\n",
      "y_train_clean Shape: 1\n",
      "Max pixel value in X_val_clean is 1.0\n",
      "Min pixel value X_val_clean is 0.0\n"
     ]
    }
   ],
   "source": [
    "###   Checks again post-preprocessing\n",
    "\n",
    "print(f\"X_train_clean Shape: {X_train_clean.ndim}\")\n",
    "print(f\"y_train_clean Shape: {y_train_clean.ndim}\") \n",
    "print(f\"Max pixel value in X_train_clean is {X_train_clean.max()}\")\n",
    "print(f\"Min pixel value X_train_clean is {X_train_clean.min()}\")  \n",
    "\n",
    "print(f\"X_val_clean Shape: {X_val_clean.ndim}\")\n",
    "print(f\"y_train_clean Shape: {y_val_clean.ndim}\") \n",
    "print(f\"Max pixel value in X_val_clean is {X_val_clean.max()}\")\n",
    "print(f\"Min pixel value X_val_clean is {X_val_clean.min()}\")"
   ]
  },
  {
   "cell_type": "markdown",
   "metadata": {},
   "source": [
    " #### Activation Function &#8595;"
   ]
  },
  {
   "cell_type": "code",
   "execution_count": 6,
   "metadata": {},
   "outputs": [],
   "source": [
    "def activation(activation_type, z):\n",
    "    if activation_type == 'relu':\n",
    "        return np.maximum(0, z)\n",
    "    if activation_type == 'sigmoid':\n",
    "        return 1/(1+np.exp(-z))\n",
    "    if activation_type == 'tanh':\n",
    "        return (np.tanh(z))\n",
    "    else:\n",
    "        raise ValueError(\"Unsupported activation type. Use 'relu', 'sigmoid', or 'tanh'.\")\n",
    "    "
   ]
  },
  {
   "cell_type": "markdown",
   "metadata": {},
   "source": [
    "#### Forward Propagation  &#8595;"
   ]
  },
  {
   "cell_type": "code",
   "execution_count": 5,
   "metadata": {},
   "outputs": [
    {
     "name": "stdout",
     "output_type": "stream",
     "text": [
      "10\n",
      "X dataframe shape(60000, 784)\n",
      "y dataframe shape(60000,)\n"
     ]
    }
   ],
   "source": [
    "X = df.drop('label', axis=1)\n",
    "y = df['label']\n",
    "\n",
    "#Total number of classes to be predicted\n",
    "n_classes = len(np.unique(y))\n",
    "print(n_classes)\n",
    "\n",
    "print(f\"X dataframe shape{X.shape}\")\n",
    "print(f\"y dataframe shape{y.shape}\")"
   ]
  },
  {
   "cell_type": "markdown",
   "metadata": {},
   "source": [
    "#### Backward Propagation  &#8595;"
   ]
  },
  {
   "cell_type": "code",
   "execution_count": null,
   "metadata": {},
   "outputs": [],
   "source": [
    "class MLP(self, PreprocessedDataset):\n",
    "    def init __super():\n",
    "        self.PreprocessedDataset\n",
    "    init __self__():\n",
    "   \n",
    "    X_train = preprocess(X_train)\n",
    "    X_val = preprocess(X_val)\n",
    "\n",
    "nn = MLP()\n",
    "for _ in range(epochs):\n",
    "    \n",
    "    nn.forwardpropagation()\n",
    "    nn.backpropagation()\n",
    "    "
   ]
  }
 ],
 "metadata": {
  "kernelspec": {
   "display_name": "base",
   "language": "python",
   "name": "python3"
  },
  "language_info": {
   "codemirror_mode": {
    "name": "ipython",
    "version": 3
   },
   "file_extension": ".py",
   "mimetype": "text/x-python",
   "name": "python",
   "nbconvert_exporter": "python",
   "pygments_lexer": "ipython3",
   "version": "3.12.4"
  }
 },
 "nbformat": 4,
 "nbformat_minor": 4
}
