{
 "cells": [
  {
   "cell_type": "markdown",
   "metadata": {},
   "source": [
    "# EE954 : Deep Learning Fundamentals\n",
    "### Assignment 1\n",
    "\n",
    "**Group Number:** 12  \n",
    "**Team Members:**  \n",
    "- Lokesh  (Roll No: 241562482)  \n",
    "- Akshay (Roll No: _____)\n",
    "\n",
    "---\n",
    "\n"
   ]
  },
  {
   "cell_type": "markdown",
   "metadata": {},
   "source": [
    "#### Importing Libraries &#8595;"
   ]
  },
  {
   "cell_type": "code",
   "execution_count": 3,
   "metadata": {},
   "outputs": [
    {
     "name": "stderr",
     "output_type": "stream",
     "text": [
      "/opt/anaconda3/envs/ml-torch/lib/python3.9/site-packages/tqdm/auto.py:21: TqdmWarning: IProgress not found. Please update jupyter and ipywidgets. See https://ipywidgets.readthedocs.io/en/stable/user_install.html\n",
      "  from .autonotebook import tqdm as notebook_tqdm\n"
     ]
    }
   ],
   "source": [
    "import numpy as np\n",
    "from torchvision import datasets\n",
    "import kagglehub\n",
    "import shutil\n",
    "import os\n",
    "import pandas as pd\n",
    "from sklearn.model_selection import train_test_split"
   ]
  },
  {
   "cell_type": "markdown",
   "metadata": {},
   "source": [
    "#### 1.1 Download and Split &#8595;\n",
    "\n",
    "General Instructions \n",
    "• Late submissions will not be accepted. \n",
    "• Any form of plagiarism will result inpenalties. If you refer to any online material or books,cite them properly. \n",
    "• You may use Google Colab or Kaggle to train your models. \n",
    "• The use of the Numpy library is permitted. \n",
    "• The use of Tensor Flow library is strictly prohibited. \n",
    "• The use of PyTorch library is allowed with restrictions.\n",
    "\n",
    "DatasetPreparation (5Marks)\n",
    "\n",
    "1.1 Download and Split (2Marks)\n",
    "\n",
    "•Download the Fashion-MNIST dataset. You can either download it from here,or import it directly into your code using PyTorch’s torchvision.datasets module. \n",
    "\n",
    "• Both sources provide separate training and test splits; however, you will need to create a separate validation set from the training data.\n",
    "\n",
    "From Perplexity.AI - '\n",
    "\n",
    "Fashion-MNIST is a widely used machine learning dataset consisting of 70,000 grayscale images (28x28 pixels) of fashion items from 10 categories, such as T-shirts, trousers, dresses, and shoes. There are 60,000 images for training and 10,000 for testing. Each image is labeled with one of the 10 clothing classes. Fashion-MNIST was designed as a more challenging, modern replacement for the original MNIST handwritten digits dataset, while maintaining the same format and structure for easy benchmarking and comparison of machine learning algorithms.\n",
    "\n",
    "Each example is a 28x28 grayscale image of a fashion item, labeled with one of 10 classes: 0: T-shirt/top 1: Trouser 2: Pullover 3: Dress 4: Coat 5: Sandal 6: Shirt 7: Sneaker 8: Bag 9: Ankle boot\n",
    "\n",
    "'\n",
    "\n",
    "Documentation on dataset - https://github.com/zalandoresearch/fashion-mnist"
   ]
  },
  {
   "cell_type": "code",
   "execution_count": 6,
   "metadata": {},
   "outputs": [
    {
     "name": "stdout",
     "output_type": "stream",
     "text": [
      "Dataset copied successfully to: /Users/lokeshkumar/eMasters/EE954_Deep_Learning/Assignments/../datasets\n",
      "Contents:\n",
      " - t10k-images-idx3-ubyte\n",
      " - fashion-mnist_test.csv\n",
      " - t10k-labels-idx1-ubyte\n",
      " - train-images-idx3-ubyte\n",
      " - fashion-mnist_train.csv\n",
      " - train-labels-idx1-ubyte\n"
     ]
    }
   ],
   "source": [
    "# where the MNIST data will be saved permanently\n",
    "BASE_DIR = os.getcwd()\n",
    "DATA_DIR = os.path.join(BASE_DIR, \"..\", \"datasets\")\n",
    "\n",
    "# Download dataset to the default directory\n",
    "path = kagglehub.dataset_download(\"zalando-research/fashionmnist\")\n",
    "\n",
    "# Copy the downloaded the dataset to the desired path\n",
    "shutil.copytree(path, DATA_DIR, dirs_exist_ok=True)\n",
    "\n",
    "if os.path.exists(DATA_DIR) and os.listdir(DATA_DIR):\n",
    "    print(f\"Dataset copied successfully to: {DATA_DIR}\")\n",
    "    print(\"Contents:\")\n",
    "    for f in os.listdir(DATA_DIR):\n",
    "        print(\" -\", f)\n",
    "else:\n",
    "    print(\"Dataset folder is missing or empty!\")\n",
    "\n",
    "train_file = os.path.join(DATA_DIR, \"fashion-mnist_train.csv\")\n",
    "test_file = os.path.join(DATA_DIR, \"fashion-mnist_test.csv\")\n",
    "\n",
    "df = pd.read_csv(train_file)\n",
    "\n",
    "X = df.drop('label', axis=1)\n",
    "y = df['label']\n",
    "\n",
    "X = X.to_numpy()\n",
    "y = y.to_numpy()\n",
    "\n",
    "X_train, X_val, y_train, y_val = train_test_split(X, y, test_size = 0.2, random_state=42)"
   ]
  },
  {
   "cell_type": "code",
   "execution_count": 8,
   "metadata": {},
   "outputs": [
    {
     "data": {
      "text/plain": [
       "(48000, 784)"
      ]
     },
     "execution_count": 8,
     "metadata": {},
     "output_type": "execute_result"
    }
   ],
   "source": [
    "X_train.shape"
   ]
  },
  {
   "cell_type": "markdown",
   "metadata": {},
   "source": [
    "### The dataset downloaded from Kaggle is already flattened. \n",
    "Notes from Kaggle:  \n",
    "\n",
    "'Content\n",
    "Each image is 28 pixels in height and 28 pixels in width, for a total of 784 pixels in total. Each pixel has a single pixel-value associated with it, indicating the lightness or darkness of that pixel, with higher numbers meaning darker. This pixel-value is an integer between 0 and 255. The training and test data sets have 785 columns. The first column consists of the class labels (see above), and represents the article of clothing. The rest of the columns contain the pixel-values of the associated image.\n",
    "\n",
    "To locate a pixel on the image, suppose that we have decomposed x as x = i * 28 + j, where i and j are integers between 0 and 27. The pixel is located on row i and column j of a 28 x 28 matrix.\n",
    "For example, pixel31 indicates the pixel that is in the fourth column from the left, and the second row from the top, as in the ascii-diagram below.'"
   ]
  },
  {
   "cell_type": "markdown",
   "metadata": {},
   "source": [
    "#### 1.2 Data Preprocessing (3 Marks)\n",
    "• Define a preprocess function to preprocess the images. (The function should have\n",
    "the same name).\n",
    "\n",
    "• The function should flatten the images.\n",
    "\n",
    "• The function should also normalize the pixel values to the range [0, 1]. Depending\n",
    "on how you have implemented the code so far, the pixel values might already be\n",
    "normalized to this range. However, for clarity and completeness, include an explicit\n",
    "normalization step regardless. &#8595;"
   ]
  },
  {
   "cell_type": "code",
   "execution_count": 20,
   "metadata": {},
   "outputs": [
    {
     "name": "stdout",
     "output_type": "stream",
     "text": [
      "X_train Shape: 2\n",
      "y_train Shape: 1\n",
      "Max pixel value in X_train is 255\n",
      "Min pixel value X_train is 0\n",
      "X_val Shape: 2\n",
      "y_val Shape: 1\n",
      "Max pixel value in X_val is 255\n",
      "Min pixel value X_val is 0\n"
     ]
    }
   ],
   "source": [
    "# Inspecting data before preprocessing:\n",
    "\n",
    "print(f\"X_train Shape: {X_train.ndim}\")\n",
    "print(f\"y_train Shape: {y_train.ndim}\") \n",
    "print(f\"Max pixel value in X_train is {X_train.max()}\")\n",
    "print(f\"Min pixel value X_train is {X_train.min()}\")  \n",
    "\n",
    "print(f\"X_val Shape: {X_val.ndim}\")\n",
    "print(f\"y_val Shape: {y_val.ndim}\") \n",
    "print(f\"Max pixel value in X_val is {X_val.max()}\")\n",
    "print(f\"Min pixel value X_val is {X_val.min()}\") "
   ]
  },
  {
   "cell_type": "code",
   "execution_count": 16,
   "metadata": {},
   "outputs": [],
   "source": [
    "def preprocess_(X):\n",
    "    if X.ndim == 3:                     # We know that the image is already flattened when used from the KaggleHub dataset, however we are checking for safety\n",
    "        X = X.reshape(X.shape[0], -1)   # Flatten each image\n",
    "    if X.max() > 1:\n",
    "        X = X / 255.0                  # We also saw from above that the dataset while being flattened is not normalized - so we normalize it here\n",
    "    return X\n",
    "\n",
    "\n",
    "class Preprocessor:\n",
    "    def __init__(self, X, y=None):\n",
    "        self.X_raw = X\n",
    "        self.y_raw = y\n",
    "        self.X = None\n",
    "        self.y = None\n",
    "\n",
    "    def apply(self):\n",
    "        \"\"\"Apply preprocessing using preprocess_() function.\"\"\"\n",
    "        self.X = preprocess_(self.X_raw)\n",
    "        self.y = self.y_raw\n",
    "        return self.X, self.y\n",
    "\n",
    "    def get_data(self):\n",
    "        \"\"\"Return already-preprocessed data.\"\"\"\n",
    "        if self.X is None:\n",
    "            raise ValueError(\"Call `.apply()` before using get_data()\")\n",
    "        return self.X, self.y\n",
    "\n",
    "\n",
    "# Wrap your existing datasets\n",
    "prep_train = Preprocessor(X_train, y_train)\n",
    "prep_val = Preprocessor(X_val, y_val)\n",
    "\n",
    "X_train_clean, y_train_clean = prep_train.apply()\n",
    "X_val_clean, y_val_clean = prep_val.apply()\n"
   ]
  },
  {
   "cell_type": "code",
   "execution_count": 22,
   "metadata": {},
   "outputs": [
    {
     "name": "stdout",
     "output_type": "stream",
     "text": [
      "X_train_clean Shape: 2\n",
      "y_train_clean Shape: 1\n",
      "Max pixel value in X_train_clean is 1.0\n",
      "Min pixel value X_train_clean is 0.0\n",
      "X_val_clean Shape: 2\n",
      "y_train_clean Shape: 1\n",
      "Max pixel value in X_val_clean is 1.0\n",
      "Min pixel value X_val_clean is 0.0\n"
     ]
    }
   ],
   "source": [
    "###   Checks again post-preprocessing\n",
    "\n",
    "print(f\"X_train_clean Shape: {X_train_clean.ndim}\")\n",
    "print(f\"y_train_clean Shape: {y_train_clean.ndim}\") \n",
    "print(f\"Max pixel value in X_train_clean is {X_train_clean.max()}\")\n",
    "print(f\"Min pixel value X_train_clean is {X_train_clean.min()}\")  \n",
    "\n",
    "print(f\"X_val_clean Shape: {X_val_clean.ndim}\")\n",
    "print(f\"y_train_clean Shape: {y_val_clean.ndim}\") \n",
    "print(f\"Max pixel value in X_val_clean is {X_val_clean.max()}\")\n",
    "print(f\"Min pixel value X_val_clean is {X_val_clean.min()}\")"
   ]
  },
  {
   "cell_type": "markdown",
   "metadata": {},
   "source": [
    " #### Activation Function &#8595;"
   ]
  },
  {
   "cell_type": "code",
   "execution_count": 6,
   "metadata": {},
   "outputs": [],
   "source": [
    "def activation(activation_type, z):\n",
    "    if activation_type == 'relu':\n",
    "        return np.maximum(0, z)\n",
    "    if activation_type == 'sigmoid':\n",
    "        return 1/(1+np.exp(-z))\n",
    "    if activation_type == 'tanh':\n",
    "        return (np.tanh(z))\n",
    "    else:\n",
    "        raise ValueError(\"Unsupported activation type. Use 'relu', 'sigmoid', or 'tanh'.\")\n",
    "    "
   ]
  },
  {
   "cell_type": "markdown",
   "metadata": {},
   "source": [
    "#### Forward Propagation  &#8595;"
   ]
  },
  {
   "cell_type": "code",
   "execution_count": 5,
   "metadata": {},
   "outputs": [
    {
     "name": "stdout",
     "output_type": "stream",
     "text": [
      "10\n",
      "X dataframe shape(60000, 784)\n",
      "y dataframe shape(60000,)\n"
     ]
    }
   ],
   "source": [
    "X = df.drop('label', axis=1)\n",
    "y = df['label']\n",
    "\n",
    "#Total number of classes to be predicted\n",
    "n_classes = len(np.unique(y))\n",
    "print(n_classes)\n",
    "\n",
    "print(f\"X dataframe shape{X.shape}\")\n",
    "print(f\"y dataframe shape{y.shape}\")"
   ]
  },
  {
   "cell_type": "markdown",
   "metadata": {},
   "source": [
    "#### Backward Propagation  &#8595;"
   ]
  },
  {
   "cell_type": "code",
   "execution_count": null,
   "metadata": {},
   "outputs": [],
   "source": [
    "class MLP(self, PreprocessedDataset):\n",
    "    def init __super():\n",
    "        self.PreprocessedDataset\n",
    "    init __self__():\n",
    "   \n",
    "    X_train = preprocess(X_train)\n",
    "    X_val = preprocess(X_val)\n",
    "\n",
    "nn = MLP()\n",
    "for _ in range(epochs):\n",
    "    \n",
    "    nn.forwardpropagation()\n",
    "    nn.backpropagation()\n",
    "    "
   ]
  }
 ],
 "metadata": {
  "kernelspec": {
   "display_name": "Python [conda env:ml-torch]",
   "language": "python",
   "name": "conda-env-ml-torch-py"
  },
  "language_info": {
   "codemirror_mode": {
    "name": "ipython",
    "version": 3
   },
   "file_extension": ".py",
   "mimetype": "text/x-python",
   "name": "python",
   "nbconvert_exporter": "python",
   "pygments_lexer": "ipython3",
   "version": "3.9.21"
  }
 },
 "nbformat": 4,
 "nbformat_minor": 4
}
